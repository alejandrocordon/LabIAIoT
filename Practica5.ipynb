{
  "nbformat": 4,
  "nbformat_minor": 0,
  "metadata": {
    "anaconda-cloud": {},
    "kernelspec": {
      "name": "python3",
      "display_name": "Python 3"
    },
    "language_info": {
      "codemirror_mode": {
        "name": "ipython",
        "version": 3
      },
      "file_extension": ".py",
      "mimetype": "text/x-python",
      "name": "python",
      "nbconvert_exporter": "python",
      "pygments_lexer": "ipython3",
      "version": "3.6.2"
    },
    "colab": {
      "name": "ML-Exercise5.ipynb",
      "provenance": [],
      "toc_visible": true
    }
  },
  "cells": [
    {
      "cell_type": "markdown",
      "metadata": {
        "id": "LLlZpuCQWY-g",
        "colab_type": "text"
      },
      "source": [
        "Práctica 5\n",
        "\n"
      ]
    },
    {
      "cell_type": "code",
      "metadata": {
        "id": "xj69jbFLWY-k",
        "colab_type": "code",
        "colab": {}
      },
      "source": [
        "import numpy as np\n",
        "import scipy.io as sio\n",
        "import scipy.optimize as opt\n",
        "import pandas as pd\n",
        "import matplotlib.pyplot as plt\n",
        "import seaborn as sns"
      ],
      "execution_count": 0,
      "outputs": []
    },
    {
      "cell_type": "code",
      "metadata": {
        "id": "qlpsqWMAWY-u",
        "colab_type": "code",
        "colab": {}
      },
      "source": [
        "def load_data():\n",
        "    d = sio.loadmat('ex5data1.mat')\n",
        "    return map(np.ravel, [d['X'], d['y'], d['Xval'], d['yval'], d['Xtest'], d['ytest']])"
      ],
      "execution_count": 0,
      "outputs": []
    },
    {
      "cell_type": "code",
      "metadata": {
        "id": "VzK3FIouWY-6",
        "colab_type": "code",
        "colab": {}
      },
      "source": [
        "X, y, Xval, yval, Xtest, ytest = load_data()"
      ],
      "execution_count": 0,
      "outputs": []
    },
    {
      "cell_type": "code",
      "metadata": {
        "id": "FZPOpQ1AWY_M",
        "colab_type": "code",
        "colab": {
          "base_uri": "https://localhost:8080/",
          "height": 568
        },
        "outputId": "233798d2-d85a-401c-e286-13bf69eef31c"
      },
      "source": [
        "df = pd.DataFrame({'water_level':X, 'flow':y})\n",
        "\n",
        "sns.lmplot('water_level', 'flow', data=df, fit_reg=False, size=7)\n",
        "plt.show()"
      ],
      "execution_count": 5,
      "outputs": [
        {
          "output_type": "stream",
          "text": [
            "/usr/local/lib/python3.6/dist-packages/seaborn/regression.py:574: UserWarning: The `size` parameter has been renamed to `height`; please update your code.\n",
            "  warnings.warn(msg, UserWarning)\n"
          ],
          "name": "stderr"
        },
        {
          "output_type": "display_data",
          "data": {
            "image/png": "[encoded data removed]",
            "text/plain": [
              "<Figure size 504x504 with 1 Axes>"
            ]
          },
          "metadata": {
            "tags": [],
            "needs_background": "light"
          }
        }
      ]
    },
    {
      "cell_type": "code",
      "metadata": {
        "id": "jwudaD6RWY_k",
        "colab_type": "code",
        "colab": {}
      },
      "source": [
        "X, Xval, Xtest = [np.insert(x.reshape(x.shape[0], 1), 0, np.ones(x.shape[0]), axis=1) for x in (X, Xval, Xtest)]"
      ],
      "execution_count": 0,
      "outputs": []
    },
    {
      "cell_type": "markdown",
      "metadata": {
        "id": "y55tdqGCWZAe",
        "colab_type": "text"
      },
      "source": [
        "Función de costo"
      ]
    },
    {
      "cell_type": "code",
      "metadata": {
        "id": "nRLfFimSWZAg",
        "colab_type": "code",
        "colab": {}
      },
      "source": [
        "def cost(theta, X, y):\n",
        "\n",
        "    m = np.shape(X)[0]\n",
        "\n",
        "    inner = X @ theta - y  \n",
        "    square_sum = inner.T @ inner\n",
        "    cost = square_sum / (2 * m)\n",
        "\n",
        "    return cost"
      ],
      "execution_count": 0,
      "outputs": []
    },
    {
      "cell_type": "code",
      "metadata": {
        "id": "wQdVn1IoWZAp",
        "colab_type": "code",
        "colab": {
          "base_uri": "https://localhost:8080/",
          "height": 35
        },
        "outputId": "795484dc-b639-4ac8-8733-490b77be6c9e"
      },
      "source": [
        "theta = np.ones(X.shape[1])\n",
        "cost(theta, X, y)"
      ],
      "execution_count": 8,
      "outputs": [
        {
          "output_type": "execute_result",
          "data": {
            "text/plain": [
              "303.9515255535976"
            ]
          },
          "metadata": {
            "tags": []
          },
          "execution_count": 8
        }
      ]
    },
    {
      "cell_type": "code",
      "metadata": {
        "id": "oIxgrMLXbjVF",
        "colab_type": "code",
        "colab": {}
      },
      "source": [
        "def regularized_cost(theta, X, y, l=1):\n",
        "    m = np.shape(X)[0]\n",
        "\n",
        "    regularized_term = (l / (2 * m)) * np.power(theta[1:], 2).sum()\n",
        "\n",
        "    return cost(theta, X, y) + regularized_term"
      ],
      "execution_count": 0,
      "outputs": []
    },
    {
      "cell_type": "markdown",
      "metadata": {
        "id": "4fpHYQbUWZA1",
        "colab_type": "text"
      },
      "source": [
        "Gradiente"
      ]
    },
    {
      "cell_type": "code",
      "metadata": {
        "id": "jSUWrBeKWZA4",
        "colab_type": "code",
        "colab": {}
      },
      "source": [
        "def gradient(theta, X, y):\n",
        "    #m = np.shape(X)[0]\n",
        "    m = np.shape(X)[0]\n",
        "\n",
        "    inner = X.T @ (X @ theta - y)  \n",
        "\n",
        "    return inner / m"
      ],
      "execution_count": 0,
      "outputs": []
    },
    {
      "cell_type": "code",
      "metadata": {
        "id": "cacWUg39WZBD",
        "colab_type": "code",
        "colab": {
          "base_uri": "https://localhost:8080/",
          "height": 35
        },
        "outputId": "5e4383cf-601d-46bc-ea2f-26fcbb78ca5e"
      },
      "source": [
        "gradient(theta, X, y)"
      ],
      "execution_count": 11,
      "outputs": [
        {
          "output_type": "execute_result",
          "data": {
            "text/plain": [
              "array([-15.30301567, 598.16741084])"
            ]
          },
          "metadata": {
            "tags": []
          },
          "execution_count": 11
        }
      ]
    },
    {
      "cell_type": "markdown",
      "metadata": {
        "id": "LPWGbjQFWZBO",
        "colab_type": "text"
      },
      "source": [
        "Gradiente regularizado"
      ]
    },
    {
      "cell_type": "code",
      "metadata": {
        "id": "JUh2IXIIWZBR",
        "colab_type": "code",
        "colab": {}
      },
      "source": [
        "def regularized_gradient(theta, X, y, l=1):\n",
        "    #m = X.shape[0]\n",
        "    m = np.shape(X)[0]\n",
        "\n",
        "    regularized_term = theta.copy()  \n",
        "    regularized_term[0] = 0  \n",
        "\n",
        "    regularized_term = (l / m) * regularized_term\n",
        "\n",
        "    return gradient(theta, X, y) + regularized_term"
      ],
      "execution_count": 0,
      "outputs": []
    },
    {
      "cell_type": "code",
      "metadata": {
        "id": "okCkrSvBWZBZ",
        "colab_type": "code",
        "colab": {
          "base_uri": "https://localhost:8080/",
          "height": 35
        },
        "outputId": "ec72bc55-0d96-4d43-d216-376517a76845"
      },
      "source": [
        "regularized_gradient(theta, X, y)"
      ],
      "execution_count": 13,
      "outputs": [
        {
          "output_type": "execute_result",
          "data": {
            "text/plain": [
              "array([-15.30301567, 598.25074417])"
            ]
          },
          "metadata": {
            "tags": []
          },
          "execution_count": 13
        }
      ]
    },
    {
      "cell_type": "code",
      "metadata": {
        "id": "tJPnGeZQbXn2",
        "colab_type": "code",
        "colab": {}
      },
      "source": [
        "def linear_regression_np(X, y, l=1):\n",
        "    theta = np.ones(np.shape(X)[1])\n",
        "\n",
        "    res = opt.minimize(fun=regularized_cost,\n",
        "                       x0=theta,\n",
        "                       args=(X, y, l),\n",
        "                       method='TNC',\n",
        "                       jac=regularized_gradient,\n",
        "                       options={'disp': True})\n",
        "    return res"
      ],
      "execution_count": 0,
      "outputs": []
    },
    {
      "cell_type": "code",
      "metadata": {
        "id": "f9BvjDYab0Kc",
        "colab_type": "code",
        "colab": {}
      },
      "source": [
        "theta = np.ones(np.shape(X)[0])\n",
        "\n",
        "final_theta = linear_regression_np(X, y, l=0).get('x')"
      ],
      "execution_count": 0,
      "outputs": []
    },
    {
      "cell_type": "code",
      "metadata": {
        "id": "TLtr1g0LcIW1",
        "colab_type": "code",
        "colab": {
          "base_uri": "https://localhost:8080/",
          "height": 265
        },
        "outputId": "40112ce1-f27a-4485-b1dd-2870b007e2bf"
      },
      "source": [
        "b = final_theta[0] # intercept\n",
        "m = final_theta[1] # slope\n",
        "\n",
        "plt.scatter(X[:,1], y, label=\"Training data\")\n",
        "plt.plot(X[:, 1], X[:, 1]*m + b, label=\"Prediction\")\n",
        "plt.legend(loc=2)\n",
        "plt.show()"
      ],
      "execution_count": 16,
      "outputs": [
        {
          "output_type": "display_data",
          "data": {
            "image/png": "[encoded data removed]",
            "text/plain": [
              "<Figure size 432x288 with 1 Axes>"
            ]
          },
          "metadata": {
            "tags": [],
            "needs_background": "light"
          }
        }
      ]
    },
    {
      "cell_type": "code",
      "metadata": {
        "id": "h6K31gz1cU7A",
        "colab_type": "code",
        "colab": {}
      },
      "source": [
        "training_cost, cv_cost = [], []"
      ],
      "execution_count": 0,
      "outputs": []
    },
    {
      "cell_type": "code",
      "metadata": {
        "id": "TCAF9QANcXhn",
        "colab_type": "code",
        "colab": {}
      },
      "source": [
        "m = np.shape(X)[0]\n",
        "for i in range(1, m+1):\n",
        "    res = linear_regression_np(X[:i, :], y[:i], l=0)\n",
        "    \n",
        "    tc = regularized_cost(res.x, X[:i, :], y[:i], l=0)\n",
        "    cv = regularized_cost(res.x, Xval, yval, l=0)\n",
        "    \n",
        "    training_cost.append(tc)\n",
        "    cv_cost.append(cv)"
      ],
      "execution_count": 0,
      "outputs": []
    },
    {
      "cell_type": "code",
      "metadata": {
        "id": "h8IX8uxQcoD4",
        "colab_type": "code",
        "colab": {
          "base_uri": "https://localhost:8080/",
          "height": 265
        },
        "outputId": "ef30411e-04ed-4eae-d63d-2d8d77b60436"
      },
      "source": [
        "plt.plot(np.arange(1, m+1), training_cost, label='training cost')\n",
        "plt.plot(np.arange(1, m+1), cv_cost, label='cv cost')\n",
        "plt.legend(loc=1)\n",
        "plt.show()"
      ],
      "execution_count": 19,
      "outputs": [
        {
          "output_type": "display_data",
          "data": {
            "image/png": "[encoded data removed]",
            "text/plain": [
              "<Figure size 432x288 with 1 Axes>"
            ]
          },
          "metadata": {
            "tags": [],
            "needs_background": "light"
          }
        }
      ]
    },
    {
      "cell_type": "markdown",
      "metadata": {
        "id": "IljfZFT4WZC8",
        "colab_type": "text"
      },
      "source": [
        "Función para polinomios"
      ]
    },
    {
      "cell_type": "code",
      "metadata": {
        "id": "kybP3DlEWZDI",
        "colab_type": "code",
        "colab": {}
      },
      "source": [
        "def poly_features(x, power, as_ndarray=False):\n",
        "    data = {'f{}'.format(i): np.power(x, i) for i in range(1, power + 1)}\n",
        "    df = pd.DataFrame(data)\n",
        "\n",
        "    return df.as_matrix() if as_ndarray else df"
      ],
      "execution_count": 0,
      "outputs": []
    },
    {
      "cell_type": "code",
      "metadata": {
        "id": "0Ip0uApQWZDU",
        "colab_type": "code",
        "colab": {}
      },
      "source": [
        "X, y, Xval, yval, Xtest, ytest = load_data()"
      ],
      "execution_count": 0,
      "outputs": []
    },
    {
      "cell_type": "code",
      "metadata": {
        "id": "YkW41rDIWZDc",
        "colab_type": "code",
        "colab": {}
      },
      "source": [
        "a = poly_features(X, power=8)"
      ],
      "execution_count": 0,
      "outputs": []
    },
    {
      "cell_type": "code",
      "metadata": {
        "id": "n5nuK4ZIWZDp",
        "colab_type": "code",
        "colab": {}
      },
      "source": [
        "def normalize_feature(df):\n",
        "    return df.apply(lambda column: (column - column.mean()) / column.std()), df.apply(lambda column:column.mean()), df.apply(lambda column:column.std())"
      ],
      "execution_count": 0,
      "outputs": []
    },
    {
      "cell_type": "code",
      "metadata": {
        "id": "JLv9MXZIWW61",
        "colab_type": "code",
        "colab": {
          "base_uri": "https://localhost:8080/",
          "height": 281
        },
        "outputId": "ebfdb3fe-fe57-4502-a136-49474469a552"
      },
      "source": [
        "x1, x1mean, x1std=normalize_feature(a)\n",
        "print(x1)"
      ],
      "execution_count": 24,
      "outputs": [
        {
          "output_type": "stream",
          "text": [
            "          f1        f2        f3  ...        f6        f7        f8\n",
            "0  -0.362141 -0.755087  0.182226  ... -0.590878  0.344516 -0.508481\n",
            "1  -0.803205  0.001258 -0.247937  ... -0.435818  0.255416 -0.448912\n",
            "2   1.377467  0.584827  1.249769  ... -0.012156  0.756568 -0.170352\n",
            "3   1.420940  0.706647  1.359846  ...  0.125637  0.871929 -0.059638\n",
            "4  -1.434149  1.854000 -2.037163  ...  2.602212 -2.645675  2.766085\n",
            "5  -0.128687 -0.975969  0.251385  ... -0.594997  0.345812 -0.508955\n",
            "6   0.680582 -0.780029  0.340656  ... -0.591790  0.346830 -0.508613\n",
            "7  -0.988534  0.451358 -0.601282  ... -0.141608  0.039403 -0.266693\n",
            "8   0.216076 -1.074993  0.266275  ... -0.595129  0.345835 -0.508960\n",
            "9  -1.311501  1.422806 -1.548121  ...  1.388655 -1.368307  1.224144\n",
            "10  0.403777 -1.015010  0.273379  ... -0.595098  0.345839 -0.508959\n",
            "11  0.929375 -0.419808  0.510968  ... -0.559030  0.361832 -0.500665\n",
            "\n",
            "[12 rows x 8 columns]\n"
          ],
          "name": "stdout"
        }
      ]
    },
    {
      "cell_type": "code",
      "metadata": {
        "id": "EnRHUuUsYsv6",
        "colab_type": "code",
        "colab": {}
      },
      "source": [
        "X_poly = poly_features(X, power=8)\n",
        "X_poly, X_polymean, X_polystd = normalize_feature(X_poly)\n",
        "Xval_poly = poly_features(Xval, power=8)\n",
        "Xval_poly = (Xval_poly - X_polymean) /  X_polystd\n",
        "Xpoly = np.array(X_poly)\n",
        "Xvalpoly = np.array(Xval_poly)"
      ],
      "execution_count": 0,
      "outputs": []
    },
    {
      "cell_type": "code",
      "metadata": {
        "id": "GYO0MbIhgZSS",
        "colab_type": "code",
        "colab": {}
      },
      "source": [
        "m = np.shape(Xpoly)[0]\n",
        "ones = np.ones((m, 1))\n",
        "Xpoly = np.hstack((ones, Xpoly))\n",
        "m = np.shape(Xvalpoly)[0]\n",
        "ones = np.ones((m, 1))\n",
        "Xvalpoly = np.hstack((ones, Xvalpoly))"
      ],
      "execution_count": 0,
      "outputs": []
    },
    {
      "cell_type": "code",
      "metadata": {
        "id": "u4s8tzcamkjB",
        "colab_type": "code",
        "colab": {
          "base_uri": "https://localhost:8080/",
          "height": 52
        },
        "outputId": "5993165e-f376-43d3-8728-dbaff49d5b82"
      },
      "source": [
        "print(np.shape(Xpoly))\n",
        "print(np.shape(Xvalpoly))"
      ],
      "execution_count": 62,
      "outputs": [
        {
          "output_type": "stream",
          "text": [
            "(12, 9)\n",
            "(21, 9)\n"
          ],
          "name": "stdout"
        }
      ]
    },
    {
      "cell_type": "code",
      "metadata": {
        "id": "7jPn5iU1mj66",
        "colab_type": "code",
        "colab": {}
      },
      "source": [
        ""
      ],
      "execution_count": 0,
      "outputs": []
    },
    {
      "cell_type": "code",
      "metadata": {
        "id": "DDe-bWSMWZD9",
        "colab_type": "code",
        "colab": {}
      },
      "source": [
        "def plot_learning_curve(X, y, Xval, yval, l=0):\n",
        "    training_cost, cv_cost = [], []\n",
        "    m = np.shape(X)[0]\n",
        "\n",
        "    for i in range(1, m + 1):\n",
        "        res = linear_regression_np(X[:i, :], y[:i], l=l)\n",
        "        tc = cost(res.x, X[:i, :], y[:i])\n",
        "        cv = cost(res.x, Xval, yval)\n",
        "\n",
        "        training_cost.append(tc)\n",
        "        cv_cost.append(cv)\n",
        "\n",
        "    plt.plot(np.arange(1, m + 1), training_cost, label='training cost')\n",
        "    plt.plot(np.arange(1, m + 1), cv_cost, label='cv cost')\n",
        "    plt.legend(loc=1)\n"
      ],
      "execution_count": 0,
      "outputs": []
    },
    {
      "cell_type": "code",
      "metadata": {
        "id": "i4z-SHjikUQn",
        "colab_type": "code",
        "colab": {}
      },
      "source": [
        "theta = np.ones(np.shape(Xpoly)[1])"
      ],
      "execution_count": 0,
      "outputs": []
    },
    {
      "cell_type": "code",
      "metadata": {
        "id": "YL0dslIwkXmx",
        "colab_type": "code",
        "colab": {
          "base_uri": "https://localhost:8080/",
          "height": 35
        },
        "outputId": "d07b500b-2b51-4ae4-9307-8519da531570"
      },
      "source": [
        "print(theta)"
      ],
      "execution_count": 66,
      "outputs": [
        {
          "output_type": "stream",
          "text": [
            "[1. 1. 1. 1. 1. 1. 1. 1. 1.]\n"
          ],
          "name": "stdout"
        }
      ]
    },
    {
      "cell_type": "code",
      "metadata": {
        "id": "cwmxKRNah-Jb",
        "colab_type": "code",
        "colab": {}
      },
      "source": [
        "res = linear_regression_np(Xpoly, y, l=0)"
      ],
      "execution_count": 0,
      "outputs": []
    },
    {
      "cell_type": "code",
      "metadata": {
        "id": "2OGFsX5VWZEE",
        "colab_type": "code",
        "colab": {
          "base_uri": "https://localhost:8080/",
          "height": 265
        },
        "outputId": "868f93e5-2710-49e9-de67-04bfbe94475c"
      },
      "source": [
        "plot_learning_curve(Xpoly, y, Xvalpoly, yval, l=0)\n",
        "plt.show()"
      ],
      "execution_count": 68,
      "outputs": [
        {
          "output_type": "display_data",
          "data": {
            "image/png": "[encoded data removed]",
            "text/plain": [
              "<Figure size 432x288 with 1 Axes>"
            ]
          },
          "metadata": {
            "tags": [],
            "needs_background": "light"
          }
        }
      ]
    },
    {
      "cell_type": "markdown",
      "metadata": {
        "id": "URhm1loiWZEK",
        "colab_type": "text"
      },
      "source": [
        "$\\lambda=1$"
      ]
    },
    {
      "cell_type": "code",
      "metadata": {
        "id": "hmmeFKCUWZEM",
        "colab_type": "code",
        "colab": {
          "base_uri": "https://localhost:8080/",
          "height": 265
        },
        "outputId": "d411f2ca-72cd-4db4-c6e6-4b07563dfb08"
      },
      "source": [
        "plot_learning_curve(Xpoly, y, Xvalpoly, yval, l=1)\n",
        "plt.show()"
      ],
      "execution_count": 69,
      "outputs": [
        {
          "output_type": "display_data",
          "data": {
            "image/png": "[encoded data removed]",
            "text/plain": [
              "<Figure size 432x288 with 1 Axes>"
            ]
          },
          "metadata": {
            "tags": [],
            "needs_background": "light"
          }
        }
      ]
    },
    {
      "cell_type": "markdown",
      "metadata": {
        "id": "Co3aJRhaWZEU",
        "colab_type": "text"
      },
      "source": [
        "$\\lambda=100$"
      ]
    },
    {
      "cell_type": "code",
      "metadata": {
        "id": "-FK1EKCnWZEV",
        "colab_type": "code",
        "colab": {
          "base_uri": "https://localhost:8080/",
          "height": 265
        },
        "outputId": "a68744fb-19f3-4fa1-d5e1-699e482ddcf5"
      },
      "source": [
        "plot_learning_curve(Xpoly, y, Xvalpoly, yval, l=100)\n",
        "plt.show()"
      ],
      "execution_count": 70,
      "outputs": [
        {
          "output_type": "display_data",
          "data": {
            "image/png": "[encoded data removed]",
            "text/plain": [
              "<Figure size 432x288 with 1 Axes>"
            ]
          },
          "metadata": {
            "tags": [],
            "needs_background": "light"
          }
        }
      ]
    },
    {
      "cell_type": "markdown",
      "metadata": {
        "id": "asenLh1WWZEa",
        "colab_type": "text"
      },
      "source": [
        "Probando varios $\\lambda$"
      ]
    },
    {
      "cell_type": "code",
      "metadata": {
        "id": "9Yggqi0bWZEb",
        "colab_type": "code",
        "colab": {}
      },
      "source": [
        "l_candidate = [0, 0.001, 0.003, 0.01, 0.03, 0.1, 0.3, 1, 3, 10]\n",
        "training_cost, cv_cost = [], []"
      ],
      "execution_count": 0,
      "outputs": []
    },
    {
      "cell_type": "code",
      "metadata": {
        "id": "AzNAaJI9WZEg",
        "colab_type": "code",
        "colab": {}
      },
      "source": [
        "for l in l_candidate:\n",
        "    res = linear_regression_np(Xpoly, y, l)\n",
        "    \n",
        "    tc = cost(res.x, Xpoly, y)\n",
        "    cv = cost(res.x, Xvalpoly, yval)\n",
        "    \n",
        "    training_cost.append(tc)\n",
        "    cv_cost.append(cv)"
      ],
      "execution_count": 0,
      "outputs": []
    },
    {
      "cell_type": "code",
      "metadata": {
        "id": "kvH6n6zgWZEn",
        "colab_type": "code",
        "colab": {
          "base_uri": "https://localhost:8080/",
          "height": 279
        },
        "outputId": "c7f34fb0-2fa9-4a46-da92-f2720000df3d"
      },
      "source": [
        "plt.plot(l_candidate, training_cost, label='training')\n",
        "plt.plot(l_candidate, cv_cost, label='cross validation')\n",
        "plt.legend(loc=2)\n",
        "\n",
        "plt.xlabel('lambda')\n",
        "\n",
        "plt.ylabel('cost')\n",
        "plt.show()"
      ],
      "execution_count": 73,
      "outputs": [
        {
          "output_type": "display_data",
          "data": {
            "image/png": "[encoded data removed]",
            "text/plain": [
              "<Figure size 432x288 with 1 Axes>"
            ]
          },
          "metadata": {
            "tags": [],
            "needs_background": "light"
          }
        }
      ]
    }
  ]
}